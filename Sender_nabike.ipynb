{
 "cells": [
  {
   "cell_type": "code",
   "execution_count": 5,
   "metadata": {},
   "outputs": [],
   "source": [
    "import time"
   ]
  },
  {
   "cell_type": "code",
   "execution_count": 20,
   "metadata": {},
   "outputs": [],
   "source": [
    "from selenium import webdriver\n",
    "from selenium.webdriver.chrome.options import Options as ChromeOptions\n",
    "from selenium.webdriver.common.keys import Keys\n",
    "\n",
    "#instance headless\n",
    "options = webdriver.ChromeOptions()\n",
    "#options.add_argument('headless')\n",
    "#options.add_argument('--window-size-1920x1080')\n",
    "\n",
    "# open with saved informations in cache\n",
    "options.add_argument(\"profile\")\n",
    "options.add_argument(\"user-data-dir=./whatsapp_nabike\")\n",
    "\n",
    "driver = webdriver.Chrome(options=options, executable_path=\"./webdriver/chromedriver\")\n",
    "driver.get('https://web.whatsapp.com/')"
   ]
  },
  {
   "cell_type": "code",
   "execution_count": 3,
   "metadata": {},
   "outputs": [
    {
     "name": "stdout",
     "output_type": "stream",
     "text": [
      "pressione enter para continuar se o Whatsapp Web já estiver aberto: \n",
      "\n",
      "o cardapio ja esta na area de copia? (ctrl+c & ctrl+v): \n",
      "\n"
     ]
    },
    {
     "data": {
      "text/plain": [
       "''"
      ]
     },
     "execution_count": 3,
     "metadata": {},
     "output_type": "execute_result"
    }
   ],
   "source": [
    "input('pressione enter para continuar se o Whatsapp Web já estiver aberto: \\n')\n",
    "\n",
    "input('o cardapio ja esta na area de copia? (ctrl+c & ctrl+v): \\n')"
   ]
  },
  {
   "cell_type": "code",
   "execution_count": 1,
   "metadata": {},
   "outputs": [],
   "source": [
    "def scrollChats_to_end():\n",
    "    try:\n",
    "        chatList = driver.find_elements_by_class_name('_1H6CJ')\n",
    "        driver.execute_script(\"arguments[0].scrollIntoView(false);\", chatList[0])\n",
    "    except:\n",
    "        print('algo deu errado ao dar scroll')"
   ]
  },
  {
   "cell_type": "code",
   "execution_count": null,
   "metadata": {},
   "outputs": [],
   "source": [
    "def clic_contact():\n",
    "    try:\n",
    "        driver.find_elements_by_css_selector('span._3NWy8')[-1].click()\n",
    "        return True\n",
    "    except Exception as error:\n",
    "        print(type(error))\n",
    "        print(error)\n",
    "        return False"
   ]
  },
  {
   "cell_type": "code",
   "execution_count": 5,
   "metadata": {},
   "outputs": [],
   "source": [
    "def total_conversations():\n",
    "    try:\n",
    "        chat_list = driver.find_elements_by_class_name('X7YrQ')\n",
    "        \n",
    "        total = 0\n",
    "        for chat in chat_list:\n",
    "            starter = chat.get_attribute('style').find(':')\n",
    "            delimiter = chat.get_attribute('style').find(';')\n",
    "            found = int(''.join(filter(str.isdigit, chat.get_attribute('style')[starter:delimiter])))\n",
    "            if found > total:\n",
    "                total = found\n",
    "        return total\n",
    "    except:\n",
    "        return 'Total Not Found'"
   ]
  },
  {
   "cell_type": "code",
   "execution_count": 9,
   "metadata": {},
   "outputs": [],
   "source": [
    "def sendImage(name):\n",
    "    try:\n",
    "        driver.find_element_by_class_name('_3u328').send_keys(Keys.CONTROL + \"v\")\n",
    "        time.sleep(1)\n",
    "        driver.find_element_by_class_name('_3u328').send_keys(Keys.ENTER)\n",
    "        enviados.append(name)\n",
    "        return True\n",
    "    except Exception as error:\n",
    "        print(type(error))\n",
    "        print(error)\n",
    "        return False"
   ]
  },
  {
   "cell_type": "code",
   "execution_count": 19,
   "metadata": {
    "scrolled": true
   },
   "outputs": [
    {
     "name": "stdout",
     "output_type": "stream",
     "text": [
      "enviado cardapio para: Vitor Pb\n",
      "enviado cardapio para: Bru Morretes 430 1347\n",
      "enviado cardapio para: Alemas Vila Verde\n",
      "enviado cardapio para: #serena\n",
      "enviado cardapio para: Fernanda 286\n",
      "enviado cardapio para: Jaqueli pb\n",
      "enviado cardapio para: +55 51 9380-0139\n",
      "enviado cardapio para: Thaiane Mp\n",
      "enviado cardapio para: Gaas\n",
      "enviado cardapio para: Cacau MP\n",
      "enviado cardapio para: Michelle Boabaid\n",
      "enviado cardapio para: Keyla\n",
      "enviado cardapio para: Versatil Mar\n",
      "enviado cardapio para: Cezar Centro\n",
      "enviado cardapio para: Provincia Marcas\n",
      "enviado cardapio para: $ituporanga\n",
      "enviado cardapio para: $persianas\n",
      "enviado cardapio para: Sem Nome28\n",
      "enviado cardapio para: Sem Nome41\n",
      "enviado cardapio para: +55 48 9168-0286\n",
      "enviado cardapio para: Thaline Ifood\n",
      "enviado cardapio para: Massoti 2\n",
      "enviado cardapio para: B Ultraje\n",
      "enviado cardapio para: Sem Nome65\n",
      "enviado cardapio para: +55 47 9988-9264\n",
      "enviado cardapio para: Frio Car Mar\n",
      "enviado cardapio para: C Milena\n",
      "enviado cardapio para: #dona grace\n",
      "enviado cardapio para: Guilherme\n",
      "enviado cardapio para: Ucas\n",
      "enviado cardapio para: Graci\n",
      "enviado cardapio para: Roh\n",
      "enviado cardapio para: Lorrana Fit\n",
      "enviado cardapio para: +55 47 9287-8195\n",
      "enviado cardapio para: +55 47 9723-0533\n",
      "enviado cardapio para: Juliano Calhas\n",
      "enviado cardapio para: Bruna Cris\n",
      "enviado cardapio para: Valmira Nascimento\n",
      "enviado cardapio para: Aeysha Face\n",
      "enviado cardapio para: $Salomen 221\n",
      "enviado cardapio para: Ana\n",
      "enviado cardapio para: Sem Nome8*\n",
      "enviado cardapio para: Darlene\n",
      "enviado cardapio para: Meu Numero\n",
      "enviado cardapio para: Marmitaaaa\n",
      "enviado cardapio para: Indianara Malha\n",
      "enviado cardapio para: B Hiperformulas\n",
      "enviado cardapio para: Cliieenn\n",
      "enviado cardapio para: Lari?\n",
      "enviado cardapio para: Saulo\n",
      "enviado cardapio para: Anita Ikcsnicsurk\n",
      "enviado cardapio para: Paola Melo\n",
      "enviado cardapio para: Sabrina Pereira\n",
      "algo deu errado ao dar scroll\n",
      "enviado cardapio para: Aeysha Face\n"
     ]
    },
    {
     "ename": "KeyboardInterrupt",
     "evalue": "",
     "output_type": "error",
     "traceback": [
      "\u001b[0;31m---------------------------------------------------------------------------\u001b[0m",
      "\u001b[0;31mKeyboardInterrupt\u001b[0m                         Traceback (most recent call last)",
      "\u001b[0;32m<ipython-input-19-c74239bc82a5>\u001b[0m in \u001b[0;36m<module>\u001b[0;34m\u001b[0m\n\u001b[1;32m      1\u001b[0m \u001b[0;31m#pegar numero de conversas e contar quantas ja foram enviadas\u001b[0m\u001b[0;34m\u001b[0m\u001b[0;34m\u001b[0m\u001b[0m\n\u001b[1;32m      2\u001b[0m \u001b[0;32mwhile\u001b[0m \u001b[0;32mTrue\u001b[0m\u001b[0;34m:\u001b[0m\u001b[0;34m\u001b[0m\u001b[0m\n\u001b[0;32m----> 3\u001b[0;31m     \u001b[0mtime\u001b[0m\u001b[0;34m.\u001b[0m\u001b[0msleep\u001b[0m\u001b[0;34m(\u001b[0m\u001b[0;36m1\u001b[0m\u001b[0;34m)\u001b[0m\u001b[0;34m\u001b[0m\u001b[0m\n\u001b[0m\u001b[1;32m      4\u001b[0m     \u001b[0mscrollChats_to_end\u001b[0m\u001b[0;34m(\u001b[0m\u001b[0;34m)\u001b[0m\u001b[0;34m\u001b[0m\u001b[0m\n\u001b[1;32m      5\u001b[0m     \u001b[0mtime\u001b[0m\u001b[0;34m.\u001b[0m\u001b[0msleep\u001b[0m\u001b[0;34m(\u001b[0m\u001b[0;36m1\u001b[0m\u001b[0;34m)\u001b[0m\u001b[0;34m\u001b[0m\u001b[0m\n",
      "\u001b[0;31mKeyboardInterrupt\u001b[0m: "
     ]
    }
   ],
   "source": [
    "#pegar numero de conversas e contar quantas ja foram enviadas\n",
    "chats = total_conversations()\n",
    "count = 0\n",
    "enviados = []\n",
    "while count < (chats - 2): #-2 porque tem dois grupos para os quais nao conseguira enviar\n",
    "    time.sleep(1)\n",
    "    scrollChats_to_end()\n",
    "    time.sleep(1)\n",
    "    if clic_contact() and name not in enviados:\n",
    "        time.sleep(0.5)\n",
    "        name = driver.find_element_by_xpath(\"//div[@class='_19vo_']\").text\n",
    "        print('enviado cardapio para: {}'.format(count, name))\n",
    "        sendImage(name)\n",
    "        count +=1"
   ]
  }
 ],
 "metadata": {
  "kernelspec": {
   "display_name": "Python 3",
   "language": "python",
   "name": "python3"
  },
  "language_info": {
   "codemirror_mode": {
    "name": "ipython",
    "version": 3
   },
   "file_extension": ".py",
   "mimetype": "text/x-python",
   "name": "python",
   "nbconvert_exporter": "python",
   "pygments_lexer": "ipython3",
   "version": "3.5.3"
  }
 },
 "nbformat": 4,
 "nbformat_minor": 2
}
