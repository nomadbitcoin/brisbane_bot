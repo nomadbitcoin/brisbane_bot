{
 "cells": [
  {
   "cell_type": "code",
   "execution_count": 1,
   "metadata": {},
   "outputs": [],
   "source": [
    "import time\n",
    "import bs4\n",
    "import platform\n",
    "from selenium import webdriver\n",
    "from selenium.webdriver.chrome.options import Options as ChromeOptions\n",
    "from selenium.webdriver.common.keys import Keys\n",
    "from selenium.webdriver.common.action_chains import ActionChains"
   ]
  },
  {
   "cell_type": "code",
   "execution_count": 2,
   "metadata": {},
   "outputs": [],
   "source": [
    "wait = 1"
   ]
  },
  {
   "cell_type": "code",
   "execution_count": 3,
   "metadata": {},
   "outputs": [],
   "source": [
    "# INSTANCE BROWSER\n",
    "def openBrowser(business):\n",
    "    '''\n",
    "        Verifica qual o sistema operacional para que use o driver e diretorio de usuarios certo\n",
    "    '''\n",
    "    \n",
    "    if platform.system() == 'Linux':\n",
    "        driver_path = './webdriver/linux/chromedriver'\n",
    "        profile_path = '/home/nomadbitcoin/whatsapp_profiles/' + business \n",
    "    elif platform.system() == 'Windows':\n",
    "        driver_path = r'C:\\\\Users\\\\Yan\\\\Desktop\\\\brisbane_bot\\\\webdriver\\\\win\\\\chromedriver.exe'\n",
    "        profile_path = \"C:\\\\Users\\\\Yan\\\\Desktop\\\\brisbane_bot\\\\profiles\\\\\" + business\n",
    "        print(profile_path)\n",
    "    \n",
    "    \n",
    "    global driver\n",
    "    try:\n",
    "        options = webdriver.ChromeOptions()\n",
    "        # open with saved informations in cache\n",
    "        options.add_argument(\"profile\")\n",
    "        options.add_argument(\"user-data-dir=\" + profile_path)\n",
    "        driver = webdriver.Chrome(options=options, executable_path=driver_path)\n",
    "#         driver.implicitly_wait(5) #tempo implicito de espera 1 segundo antes de cada acao\n",
    "        main_url = 'https://web.whatsapp.com/'\n",
    "        driver.get(main_url)\n",
    "        return True\n",
    "        if wait_connection(driver):\n",
    "            return True, 'opened in: {}'.format(main_url)\n",
    "    except Exception as error:\n",
    "        print(type(error), error)\n",
    "        return False\n",
    "    \n",
    "# PARA LIBERAR SOMENTE APOS TER ABERTO O WHATSAPP\n",
    "def wait_connection(driver):\n",
    "    waiting = True\n",
    "    while waiting:\n",
    "        try:\n",
    "            if driver.find_element_by_class_name('Qk8nZ').text == 'Keep your phone connected':\n",
    "                waiting = False\n",
    "                return True\n",
    "                break\n",
    "#             elif driver.find_element_by_class_name('_13HPh').text == 'Computer not connected':\n",
    "#                 waiting = False\n",
    "#                 return False, 'Computer not connected'\n",
    "        except KeyboardInterrupt:\n",
    "            waiting = False\n",
    "            return False\n",
    "        except:\n",
    "            time.sleep(10)\n",
    "            pass"
   ]
  },
  {
   "cell_type": "code",
   "execution_count": 4,
   "metadata": {},
   "outputs": [],
   "source": [
    "def scrollChats_to_end():\n",
    "    try:\n",
    "        chatList = driver.find_elements_by_class_name('_1H6CJ')\n",
    "        driver.execute_script(\"arguments[0].scrollIntoView(false);\", chatList[0])\n",
    "    except Exception as error:\n",
    "        print(type(error), error)\n",
    "        print('algo deu errado ao dar scroll')"
   ]
  },
  {
   "cell_type": "code",
   "execution_count": 5,
   "metadata": {},
   "outputs": [],
   "source": [
    "def click_contact():\n",
    "    try:\n",
    "        driver.find_elements_by_css_selector('span._3NWy8')[-1].click()\n",
    "        name = get_name()\n",
    "        return name\n",
    "    except Exception as error:\n",
    "        print(type(error), error)\n",
    "        return False\n",
    "    \n",
    "def get_name():\n",
    "    try:\n",
    "        name = driver.find_element_by_xpath(\"//div[@class='_19vo_']\").text\n",
    "        return name\n",
    "    except Exception as error:\n",
    "        print(type(error), error)        \n",
    "        return 'None'"
   ]
  },
  {
   "cell_type": "code",
   "execution_count": 6,
   "metadata": {},
   "outputs": [],
   "source": [
    "def total_conversations():\n",
    "    try:\n",
    "        chat_list = driver.find_elements_by_class_name('X7YrQ')\n",
    "        \n",
    "        total = 0\n",
    "        for chat in chat_list:\n",
    "            starter = chat.get_attribute('style').find(':')\n",
    "            delimiter = chat.get_attribute('style').find(';')\n",
    "            found = int(''.join(filter(str.isdigit, chat.get_attribute('style')[starter:delimiter])))\n",
    "            if found > total:\n",
    "                total = found\n",
    "        return total\n",
    "    except Exception as error:\n",
    "        print(type(error), error)\n",
    "        return 'Total Not Found'"
   ]
  },
  {
   "cell_type": "code",
   "execution_count": 7,
   "metadata": {},
   "outputs": [],
   "source": [
    "def sendImage(name):\n",
    "    try:\n",
    "        driver.find_element_by_class_name('_3u328').send_keys(Keys.CONTROL + \"v\")\n",
    "        time.sleep(wait)\n",
    "        driver.find_element_by_class_name('_3u328').send_keys(Keys.ENTER)\n",
    "        enviados.append(name)\n",
    "        return True\n",
    "    except Exception as error:\n",
    "        print(type(error), error)\n",
    "        return False"
   ]
  },
  {
   "cell_type": "code",
   "execution_count": 9,
   "metadata": {
    "scrolled": true
   },
   "outputs": [
    {
     "name": "stdout",
     "output_type": "stream",
     "text": [
      "C:\\Users\\Yan\\Desktop\\brisbane_bot\\profiles\\carmenkussler\n"
     ]
    },
    {
     "data": {
      "text/plain": [
       "True"
      ]
     },
     "execution_count": 9,
     "metadata": {},
     "output_type": "execute_result"
    }
   ],
   "source": [
    "openBrowser('carmenkussler')"
   ]
  },
  {
   "cell_type": "code",
   "execution_count": null,
   "metadata": {},
   "outputs": [],
   "source": [
    "# input('Continue se Whatsapp esta aberto e conteudo estiver na area ctrl+c & ctrl+v: \\n')"
   ]
  },
  {
   "cell_type": "code",
   "execution_count": 10,
   "metadata": {
    "scrolled": true
   },
   "outputs": [
    {
     "name": "stdout",
     "output_type": "stream",
     "text": [
      "0 de 190 // Enviando para: Cristina Brambila\n",
      "<class 'selenium.common.exceptions.StaleElementReferenceException'> Message: stale element reference: element is not attached to the page document\n",
      "  (Session info: chrome=80.0.3987.132)\n",
      "\n",
      "<class 'AssertionError'> Nao conseguiu clicar no contato\n",
      "1 de 190 // Enviando para: Fernanda (diva)\n",
      "2 de 190 // Enviando para: Jeny Style Tatoo\n"
     ]
    },
    {
     "ename": "KeyboardInterrupt",
     "evalue": "",
     "output_type": "error",
     "traceback": [
      "\u001b[1;31m---------------------------------------------------------------------------\u001b[0m",
      "\u001b[1;31mKeyboardInterrupt\u001b[0m                         Traceback (most recent call last)",
      "\u001b[1;32m<ipython-input-10-ffd9527db91d>\u001b[0m in \u001b[0;36m<module>\u001b[1;34m\u001b[0m\n\u001b[0;32m      7\u001b[0m         \u001b[0mtime\u001b[0m\u001b[1;33m.\u001b[0m\u001b[0msleep\u001b[0m\u001b[1;33m(\u001b[0m\u001b[0mwait\u001b[0m\u001b[1;33m)\u001b[0m\u001b[1;33m\u001b[0m\u001b[1;33m\u001b[0m\u001b[0m\n\u001b[0;32m      8\u001b[0m         \u001b[0mscrollChats_to_end\u001b[0m\u001b[1;33m(\u001b[0m\u001b[1;33m)\u001b[0m\u001b[1;33m\u001b[0m\u001b[1;33m\u001b[0m\u001b[0m\n\u001b[1;32m----> 9\u001b[1;33m         \u001b[0mtime\u001b[0m\u001b[1;33m.\u001b[0m\u001b[0msleep\u001b[0m\u001b[1;33m(\u001b[0m\u001b[0mwait\u001b[0m\u001b[1;33m)\u001b[0m\u001b[1;33m\u001b[0m\u001b[1;33m\u001b[0m\u001b[0m\n\u001b[0m\u001b[0;32m     10\u001b[0m         \u001b[0mname\u001b[0m \u001b[1;33m=\u001b[0m \u001b[0mclick_contact\u001b[0m\u001b[1;33m(\u001b[0m\u001b[1;33m)\u001b[0m\u001b[1;33m\u001b[0m\u001b[1;33m\u001b[0m\u001b[0m\n\u001b[0;32m     11\u001b[0m         \u001b[1;32massert\u001b[0m \u001b[0mname\u001b[0m \u001b[1;33m!=\u001b[0m \u001b[1;32mFalse\u001b[0m\u001b[1;33m,\u001b[0m \u001b[1;34m'Nao conseguiu clicar no contato'\u001b[0m\u001b[1;33m\u001b[0m\u001b[1;33m\u001b[0m\u001b[0m\n",
      "\u001b[1;31mKeyboardInterrupt\u001b[0m: "
     ]
    }
   ],
   "source": [
    "#pegar numero de conversas e contar quantas ja foram enviadas\n",
    "chats = total_conversations()\n",
    "count = 0\n",
    "enviados = []\n",
    "while count <= chats: #-2 porque tem dois grupos para os quais nao conseguira enviar\n",
    "    try:\n",
    "        time.sleep(wait)\n",
    "        scrollChats_to_end()\n",
    "        time.sleep(wait)\n",
    "        name = click_contact()\n",
    "        assert name != False, 'Nao conseguiu clicar no contato'\n",
    "        if name not in enviados:\n",
    "            time.sleep(wait)\n",
    "            print('{} de {} // Enviando para: {}'.format(count, chats,name))\n",
    "            sendImage(name)\n",
    "            count +=1\n",
    "    except Exception as error:\n",
    "        print(type(error), error)\n",
    "        \n",
    "print('\\n\\n ---------- TODOS ENVIADOS ---------- total [{}]\\n\\n'.format(count))"
   ]
  },
  {
   "cell_type": "markdown",
   "metadata": {},
   "source": [
    "## Envio atraves de encaminhamento"
   ]
  },
  {
   "cell_type": "code",
   "execution_count": 103,
   "metadata": {},
   "outputs": [],
   "source": [
    "# PEGA A UNICA MENSAGEM QUE HA NO CHAT 'TO_SEND' - FUNCIONANDO PARA IMAGENS\n",
    "def click_forward(content, have_text=False):\n",
    "    '''\n",
    "        Deve Haver uma conversa com as mensagens a serem encaminhadas e NADA MAIS,\n",
    "        pode ser um grupo sozinho ou uma conversa com alguem mas \n",
    "        é essencial que não tenha mais nenhuma mensagem na conversa além das mensagens a serem encaminnhadas\n",
    "    \n",
    "        o conteudo pode ser imagem, audio, video, ou texto e caso seja imagem ou video pode conter texto\n",
    "    '''\n",
    "    \n",
    "    # se o conteudo a ser encaminhado for imagem\n",
    "    if content == 'image':\n",
    "        try:\n",
    "            div_chat = driver.find_element_by_class_name('_1ays2')\n",
    "            mensagens = div_chat.find_elements_by_class_name('FTBzM')\n",
    "            for msg in mensagens:\n",
    "                try:\n",
    "                    #verifica se ha imagem a ser verificada e verifica se ja foi verificada\n",
    "                    src = msg.find_element_by_tag_name('img').get_attribute('src')\n",
    "                    msg.find_element_by_xpath('//span[@data-icon=\"forward-chat\"]').click()\n",
    "                    #retorna True para o clique e tambem o conteudo de texto da mensagem, senao somente True\n",
    "                    text = msg.text[:-8]if have_text == True else None\n",
    "                    return True, text #os ultimos 8 caracteres sao o horario da mensagem e nao devem ser enviados\n",
    "                except Exception as error:\n",
    "                    if 'Unable to locate element' not in str(error):\n",
    "                        print(type(error), error)\n",
    "                    pass\n",
    "\n",
    "        except Exception as error:\n",
    "            print(type(error), error)"
   ]
  },
  {
   "cell_type": "code",
   "execution_count": 140,
   "metadata": {},
   "outputs": [],
   "source": [
    "def click_to_send():\n",
    "    try:\n",
    "        driver.find_element_by_xpath('//div[@data-animate-btn=\"true\"]').click()\n",
    "        return True\n",
    "    except Exception as error:\n",
    "        print(type(error), error)\n",
    "        return False"
   ]
  },
  {
   "cell_type": "code",
   "execution_count": 105,
   "metadata": {},
   "outputs": [
    {
     "data": {
      "text/plain": [
       "(True, None)"
      ]
     },
     "execution_count": 105,
     "metadata": {},
     "output_type": "execute_result"
    }
   ],
   "source": [
    "click_forward('image')"
   ]
  },
  {
   "cell_type": "code",
   "execution_count": 140,
   "metadata": {},
   "outputs": [],
   "source": [
    "def getChats():\n",
    "    '''\n",
    "        Pega a lista de chats apos clicar no botao de encaminhar\n",
    "    '''\n",
    "    chats = driver.find_elements_by_class_name('_2UaNq')\n",
    "    return chats"
   ]
  },
  {
   "cell_type": "code",
   "execution_count": 141,
   "metadata": {},
   "outputs": [],
   "source": [
    "def isGroup(chat):\n",
    "    '''\n",
    "        Rececebe um chat e verifica se eh um grupo\n",
    "    \n",
    "        Quado eh grupo nao tera uma div especifica, entao retornara False\n",
    "    '''\n",
    "    try:\n",
    "        div_contact = chat.find_element_by_class_name('_3NWy8')\n",
    "        return False\n",
    "    except Exception as error:\n",
    "        if 'Unable to locate element' not in str(error):\n",
    "            print(type(error), error)\n",
    "        else:\n",
    "            return True"
   ]
  },
  {
   "cell_type": "code",
   "execution_count": 297,
   "metadata": {},
   "outputs": [],
   "source": [
    "def clickChat(chat):\n",
    "    try:\n",
    "        chat.click()\n",
    "        return True\n",
    "    except Exception as error:\n",
    "        return False\n",
    "\n",
    "def select_contacts(groups=False):\n",
    "    '''\n",
    "        Verifica se os chats sao grupo, ira selecionar 5 chats que nao sejam grupos\n",
    "    '''\n",
    "    try:\n",
    "        # caso nao seja para encaminhar para os grupos\n",
    "        if groups == False:\n",
    "            selected = 0\n",
    "            for chat in getChats():\n",
    "                time.sleep(wait)\n",
    "                if not isGroup(chat) and clickChat(chat) and selected <=5:\n",
    "                    print('{} selected: {}'.format(selected, chat.text))\n",
    "                    selected +=1\n",
    "                elif selected >=5:\n",
    "                    break\n",
    "            return True\n",
    "        # se for para selecionar grupos eh a mesma coisa mais nao ira verificar antes se eh grupo\n",
    "        else:\n",
    "            selected = 0\n",
    "            for chat in getChats():\n",
    "                time.sleep(wait)\n",
    "                if clickChat(chat) and selected <=5:\n",
    "                    print('{} selected: {}'.format(selected, chat.text))\n",
    "                    selected +=1\n",
    "                elif selected >=5:\n",
    "                    break\n",
    "            return True\n",
    "            \n",
    "    except Exception as error:\n",
    "        print(type(error), error)"
   ]
  },
  {
   "cell_type": "code",
   "execution_count": 184,
   "metadata": {},
   "outputs": [],
   "source": [
    "def scrollChats():\n",
    "    '''\n",
    "        Ira controlar os scrolls a serem dados na lista de chats\n",
    "    '''\n",
    "    pass"
   ]
  },
  {
   "cell_type": "code",
   "execution_count": 273,
   "metadata": {},
   "outputs": [],
   "source": [
    "# FUNCOES DE NAVEGACAO PELO WHATSAPP COM CLIQUES E TECLAS DO TECLADO\n",
    "def down_chat(force=False, page_down=True):\n",
    "    #force = True ira clicar na caixa de pesquisa e reiniciar o processo de clicar nos botoes\n",
    "    if 'press_down' not in globals() or force == True:\n",
    "        # CLICA NA CAIXA DE PESQUISA DE CONVERSAS\n",
    "        driver.find_element_by_class_name('_2zCfw').click()\n",
    "        \n",
    "        # PRESSIONA A TECLA DOWN PARA NAVEGAR ENTRE AS CONVERSAS\n",
    "        global press_down\n",
    "        press_down = ActionChains(driver)\n",
    "        press_down.send_keys(Keys.DOWN)\n",
    "        press_down.perform()\n",
    "    elif page_down == True:\n",
    "        press_down.send_keys(Keys.PAGE_DOWN)\n",
    "        press_down.perform()\n",
    "    else:\n",
    "        press_down.perform()"
   ]
  },
  {
   "cell_type": "code",
   "execution_count": 291,
   "metadata": {},
   "outputs": [],
   "source": [
    "down_chat()\n",
    "time.sleep(wait)\n",
    "select_contacts()"
   ]
  },
  {
   "cell_type": "code",
   "execution_count": 294,
   "metadata": {},
   "outputs": [
    {
     "data": {
      "text/plain": [
       "1070"
      ]
     },
     "execution_count": 294,
     "metadata": {},
     "output_type": "execute_result"
    }
   ],
   "source": [
    "total_conversations()"
   ]
  },
  {
   "cell_type": "code",
   "execution_count": 298,
   "metadata": {},
   "outputs": [],
   "source": [
    "# CLICA EM ENCAMINHAR MENSAGEM\n",
    "def click_forward():\n",
    "    '''\n",
    "        Verifica se a ultima mensagem foi a propria conta que enviou e se eh uma imagem e se o tempo esta valido,\n",
    "        apos clicar em encaminhar ira aguardar ate que o reloginho de enviando conclua\n",
    "        tempo valido sera se o horario atual comparado ao tempo que esperou enviar coincide com o horario da imagem enviada\n",
    "        (para casos em que a conta ja tenha enviado uma imagem antes)\n",
    "    '''\n",
    "    pass"
   ]
  },
  {
   "cell_type": "code",
   "execution_count": null,
   "metadata": {},
   "outputs": [],
   "source": [
    "#implementar relatorio de enviados em csv"
   ]
  }
 ],
 "metadata": {
  "kernelspec": {
   "display_name": "Python 3",
   "language": "python",
   "name": "python3"
  },
  "language_info": {
   "codemirror_mode": {
    "name": "ipython",
    "version": 3
   },
   "file_extension": ".py",
   "mimetype": "text/x-python",
   "name": "python",
   "nbconvert_exporter": "python",
   "pygments_lexer": "ipython3",
   "version": "3.7.3"
  }
 },
 "nbformat": 4,
 "nbformat_minor": 2
}
