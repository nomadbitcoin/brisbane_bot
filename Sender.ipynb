{
 "cells": [
  {
   "cell_type": "code",
   "execution_count": 1,
   "metadata": {},
   "outputs": [],
   "source": [
    "import time\n",
    "import os\n",
    "import random"
   ]
  },
  {
   "cell_type": "code",
   "execution_count": 2,
   "metadata": {},
   "outputs": [],
   "source": [
    "from selenium import webdriver\n",
    "from selenium.webdriver.chrome.options import Options as ChromeOptions\n",
    "from selenium.webdriver.common.keys import Keys\n",
    "\n",
    "#instance headless\n",
    "options = webdriver.ChromeOptions()\n",
    "#options.add_argument('headless')\n",
    "#options.add_argument('--window-size-1920x1080')\n",
    "\n",
    "# open with saved informations in cache\n",
    "options.add_argument(\"profile\")\n",
    "options.add_argument(\"user-data-dir=./whatsapp_nabike\")\n",
    "\n",
    "driver = webdriver.Chrome(options=options, executable_path=\"./webdriver/chromedriver\")\n",
    "driver.get('https://web.whatsapp.com/')"
   ]
  },
  {
   "cell_type": "code",
   "execution_count": 3,
   "metadata": {},
   "outputs": [],
   "source": [
    "# input('pressione enter para continuar se o Whatsapp Web já estiver aberto: \\n')\n",
    "\n",
    "# input('o cardapio ja esta na area de copia? (ctrl+c & ctrl+v): \\n')"
   ]
  },
  {
   "cell_type": "code",
   "execution_count": 4,
   "metadata": {},
   "outputs": [],
   "source": [
    "def scrollChats_to_end():\n",
    "    try:\n",
    "        chatList = driver.find_elements_by_class_name('_1H6CJ')\n",
    "        driver.execute_script(\"arguments[0].scrollIntoView(false);\", chatList[0])\n",
    "    except:\n",
    "        print('algo deu errado ao dar scroll')"
   ]
  },
  {
   "cell_type": "code",
   "execution_count": 5,
   "metadata": {},
   "outputs": [],
   "source": [
    "def controlConection(up_or_down):\n",
    "    try:\n",
    "        sudoPassword = 'kaisen'\n",
    "        command = 'sudo ip link set enp7s0 '+ str(up_or_down)\n",
    "        os.system('echo %s|sudo -S %s' % (sudoPassword, command))\n",
    "        time.sleep(5)\n",
    "    except:\n",
    "        print('Erro conexao')"
   ]
  },
  {
   "cell_type": "code",
   "execution_count": 6,
   "metadata": {},
   "outputs": [],
   "source": [
    "def sendImage():\n",
    "    rounds = 0\n",
    "    stop = 0\n",
    "    for contact in driver.find_elements_by_xpath(\"//div[@class='X7YrQ']\"):\n",
    "        try:\n",
    "            name = contact.find_elements_by_css_selector('span._3NWy8')[0].text\n",
    "            #verifica quando foi a ultima mensagem enviada para o contato, se houver \" : \" eh porque recebeu mensagem no mesmo dia entao nao recebera o cardapio novamente\n",
    "            #when = contact.find_elements_by_css_selector('div._0LqQ')[0].text.find(':')\n",
    "            #se o identificador de horario nao for encontrado o find retorna -1\n",
    "    \n",
    "            print('enviando cardapio para: {}'.format(name))\n",
    "            if name not in enviados:\n",
    "                try:\n",
    "                    contact.find_elements_by_css_selector('span._3NWy8')[0].click()\n",
    "                    time.sleep(1)\n",
    "                    driver.find_element_by_xpath(\"//div[@class='_13mgZ']\").send_keys(Keys.CONTROL + \"v\")\n",
    "                    time.sleep(1)\n",
    "                    driver.find_element_by_xpath(\"//div[@class='rK2ei USE1O']\").find_element_by_xpath(\"//div[@class='iA40b']\").click()\n",
    "                    enviados.append(name)\n",
    "                    stop = 0\n",
    "                    #se encontrar algum para enviar ira zerar o contador\n",
    "                except KeyboardInterrupt:\n",
    "                    print('stopped Sender')\n",
    "                    break\n",
    "                except:\n",
    "                    try:\n",
    "                        #tenta novamente clicar no botao enviar\n",
    "                        driver.find_element_by_xpath(\"//div[@class='rK2ei USE1O']\").find_element_by_xpath(\"//div[@class='iA40b']\").click()\n",
    "                        enviados.append(name)\n",
    "                    except:\n",
    "                        #se nao conseguir novamente, tentara apertar enter\n",
    "                        print('houve algum problema')\n",
    "                        pass\n",
    "            else:\n",
    "                print('ja enviado para: {}'.format(name))\n",
    "                stop +=1\n",
    "                if stop >=20:\n",
    "                    #se por 20 vezes ja tiver enviado o cardapio, chegou ao fim\n",
    "                    return 'break'\n",
    "            rounds +=1\n",
    "        except:\n",
    "            pass\n",
    "        \n",
    "        time.sleep(1)\n",
    "        scrollChats_to_end()\n",
    "        \n",
    "        \n",
    "    return rounds"
   ]
  },
  {
   "cell_type": "code",
   "execution_count": 7,
   "metadata": {
    "scrolled": true
   },
   "outputs": [],
   "source": [
    "# # enviados = []\n",
    "# run = True\n",
    "# while run:\n",
    "#     try:\n",
    "#         shipped = 0\n",
    "#         scrollChats_to_end()\n",
    "# #         controlConection('down')\n",
    "        \n",
    "#         #define um numero aleatorio de cardapios para enviar a cada conexao\n",
    "#         num_sends = int(random.randint(69,99))\n",
    "        \n",
    "        \n",
    "#         while shipped <= num_sends:\n",
    "#             total = sendImage()\n",
    "#             if total != 'break':\n",
    "#                 shipped = shipped + total\n",
    "#             else:\n",
    "#                 run = False\n",
    "#                 break\n",
    "\n",
    "#         # escolhe um tempo aleatorio em segundos entre 50 e 80s para que os cardapios sejam enviados apos conexao com internet\n",
    "# #         controlConection('up')\n",
    "        \n",
    "# #         time_to_wait = int(random.randint(50,80))\n",
    "# #         print('sending files...')\n",
    "        \n",
    "# #         time.sleep(time_to_wait)\n",
    "#         print('\\n{} enviados ate o momendo'.format(len(enviados)))\n",
    "            \n",
    "#     except KeyboardInterrupt:\n",
    "#         print('stopped everything')\n",
    "#         break"
   ]
  },
  {
   "cell_type": "code",
   "execution_count": 8,
   "metadata": {},
   "outputs": [
    {
     "name": "stdout",
     "output_type": "stream",
     "text": [
      "enviando cardapio para: Juliana 254a\n",
      "houve algum problema\n",
      "enviando cardapio para: Yasmim Komprao\n",
      "enviando cardapio para: Edu Lopes\n",
      "enviando cardapio para: Natalia Pereque\n",
      "enviando cardapio para: Bruno 230\n",
      "enviando cardapio para: Beatriz\n",
      "enviando cardapio para: Fernanda\n",
      "enviando cardapio para: Camila\n",
      "enviando cardapio para: Edson Tutelar\n",
      "enviando cardapio para: X Biof\n",
      "enviando cardapio para: Thamirys\n",
      "enviando cardapio para: Praiana\n",
      "enviando cardapio para: Cris\n",
      "enviando cardapio para: Tere\n",
      "\n",
      "13 enviados ate o momendo\n",
      "enviando cardapio para: Juliano Calhas\n",
      "houve algum problema\n",
      "enviando cardapio para: Guilherme\n",
      "algo deu errado ao dar scroll\n",
      "\n",
      "14 enviados ate o momendo\n"
     ]
    },
    {
     "ename": "WebDriverException",
     "evalue": "Message: chrome not reachable\n  (Session info: chrome=78.0.3904.108)\n",
     "output_type": "error",
     "traceback": [
      "\u001b[0;31m---------------------------------------------------------------------------\u001b[0m",
      "\u001b[0;31mWebDriverException\u001b[0m                        Traceback (most recent call last)",
      "\u001b[0;32m<ipython-input-8-83d9b49951f6>\u001b[0m in \u001b[0;36m<module>\u001b[0;34m\u001b[0m\n\u001b[1;32m      3\u001b[0m \u001b[0;32mwhile\u001b[0m \u001b[0mrun\u001b[0m\u001b[0;34m:\u001b[0m\u001b[0;34m\u001b[0m\u001b[0m\n\u001b[1;32m      4\u001b[0m     \u001b[0;32mtry\u001b[0m\u001b[0;34m:\u001b[0m\u001b[0;34m\u001b[0m\u001b[0m\n\u001b[0;32m----> 5\u001b[0;31m         \u001b[0mtotal\u001b[0m \u001b[0;34m=\u001b[0m \u001b[0msendImage\u001b[0m\u001b[0;34m(\u001b[0m\u001b[0;34m)\u001b[0m\u001b[0;34m\u001b[0m\u001b[0m\n\u001b[0m\u001b[1;32m      6\u001b[0m         \u001b[0;32mif\u001b[0m \u001b[0mtotal\u001b[0m \u001b[0;34m==\u001b[0m \u001b[0;34m'break'\u001b[0m\u001b[0;34m:\u001b[0m\u001b[0;34m\u001b[0m\u001b[0m\n\u001b[1;32m      7\u001b[0m             \u001b[0mrun\u001b[0m \u001b[0;34m=\u001b[0m \u001b[0;32mFalse\u001b[0m\u001b[0;34m\u001b[0m\u001b[0m\n",
      "\u001b[0;32m<ipython-input-6-9c8c5e1aad57>\u001b[0m in \u001b[0;36msendImage\u001b[0;34m()\u001b[0m\n\u001b[1;32m      2\u001b[0m     \u001b[0mrounds\u001b[0m \u001b[0;34m=\u001b[0m \u001b[0;36m0\u001b[0m\u001b[0;34m\u001b[0m\u001b[0m\n\u001b[1;32m      3\u001b[0m     \u001b[0mstop\u001b[0m \u001b[0;34m=\u001b[0m \u001b[0;36m0\u001b[0m\u001b[0;34m\u001b[0m\u001b[0m\n\u001b[0;32m----> 4\u001b[0;31m     \u001b[0;32mfor\u001b[0m \u001b[0mcontact\u001b[0m \u001b[0;32min\u001b[0m \u001b[0mdriver\u001b[0m\u001b[0;34m.\u001b[0m\u001b[0mfind_elements_by_xpath\u001b[0m\u001b[0;34m(\u001b[0m\u001b[0;34m\"//div[@class='X7YrQ']\"\u001b[0m\u001b[0;34m)\u001b[0m\u001b[0;34m:\u001b[0m\u001b[0;34m\u001b[0m\u001b[0m\n\u001b[0m\u001b[1;32m      5\u001b[0m         \u001b[0;32mtry\u001b[0m\u001b[0;34m:\u001b[0m\u001b[0;34m\u001b[0m\u001b[0m\n\u001b[1;32m      6\u001b[0m             \u001b[0mname\u001b[0m \u001b[0;34m=\u001b[0m \u001b[0mcontact\u001b[0m\u001b[0;34m.\u001b[0m\u001b[0mfind_elements_by_css_selector\u001b[0m\u001b[0;34m(\u001b[0m\u001b[0;34m'span._3NWy8'\u001b[0m\u001b[0;34m)\u001b[0m\u001b[0;34m[\u001b[0m\u001b[0;36m0\u001b[0m\u001b[0;34m]\u001b[0m\u001b[0;34m.\u001b[0m\u001b[0mtext\u001b[0m\u001b[0;34m\u001b[0m\u001b[0m\n",
      "\u001b[0;32m~/.local/lib/python3.5/site-packages/selenium/webdriver/remote/webdriver.py\u001b[0m in \u001b[0;36mfind_elements_by_xpath\u001b[0;34m(self, xpath)\u001b[0m\n\u001b[1;32m    408\u001b[0m             \u001b[0melements\u001b[0m \u001b[0;34m=\u001b[0m \u001b[0mdriver\u001b[0m\u001b[0;34m.\u001b[0m\u001b[0mfind_elements_by_xpath\u001b[0m\u001b[0;34m(\u001b[0m\u001b[0;34m\"//div[contains(@class, 'foo')]\"\u001b[0m\u001b[0;34m)\u001b[0m\u001b[0;34m\u001b[0m\u001b[0m\n\u001b[1;32m    409\u001b[0m         \"\"\"\n\u001b[0;32m--> 410\u001b[0;31m         \u001b[0;32mreturn\u001b[0m \u001b[0mself\u001b[0m\u001b[0;34m.\u001b[0m\u001b[0mfind_elements\u001b[0m\u001b[0;34m(\u001b[0m\u001b[0mby\u001b[0m\u001b[0;34m=\u001b[0m\u001b[0mBy\u001b[0m\u001b[0;34m.\u001b[0m\u001b[0mXPATH\u001b[0m\u001b[0;34m,\u001b[0m \u001b[0mvalue\u001b[0m\u001b[0;34m=\u001b[0m\u001b[0mxpath\u001b[0m\u001b[0;34m)\u001b[0m\u001b[0;34m\u001b[0m\u001b[0m\n\u001b[0m\u001b[1;32m    411\u001b[0m \u001b[0;34m\u001b[0m\u001b[0m\n\u001b[1;32m    412\u001b[0m     \u001b[0;32mdef\u001b[0m \u001b[0mfind_element_by_link_text\u001b[0m\u001b[0;34m(\u001b[0m\u001b[0mself\u001b[0m\u001b[0;34m,\u001b[0m \u001b[0mlink_text\u001b[0m\u001b[0;34m)\u001b[0m\u001b[0;34m:\u001b[0m\u001b[0;34m\u001b[0m\u001b[0m\n",
      "\u001b[0;32m~/.local/lib/python3.5/site-packages/selenium/webdriver/remote/webdriver.py\u001b[0m in \u001b[0;36mfind_elements\u001b[0;34m(self, by, value)\u001b[0m\n\u001b[1;32m   1005\u001b[0m         return self.execute(Command.FIND_ELEMENTS, {\n\u001b[1;32m   1006\u001b[0m             \u001b[0;34m'using'\u001b[0m\u001b[0;34m:\u001b[0m \u001b[0mby\u001b[0m\u001b[0;34m,\u001b[0m\u001b[0;34m\u001b[0m\u001b[0m\n\u001b[0;32m-> 1007\u001b[0;31m             'value': value})['value'] or []\n\u001b[0m\u001b[1;32m   1008\u001b[0m \u001b[0;34m\u001b[0m\u001b[0m\n\u001b[1;32m   1009\u001b[0m     \u001b[0;34m@\u001b[0m\u001b[0mproperty\u001b[0m\u001b[0;34m\u001b[0m\u001b[0m\n",
      "\u001b[0;32m~/.local/lib/python3.5/site-packages/selenium/webdriver/remote/webdriver.py\u001b[0m in \u001b[0;36mexecute\u001b[0;34m(self, driver_command, params)\u001b[0m\n\u001b[1;32m    319\u001b[0m         \u001b[0mresponse\u001b[0m \u001b[0;34m=\u001b[0m \u001b[0mself\u001b[0m\u001b[0;34m.\u001b[0m\u001b[0mcommand_executor\u001b[0m\u001b[0;34m.\u001b[0m\u001b[0mexecute\u001b[0m\u001b[0;34m(\u001b[0m\u001b[0mdriver_command\u001b[0m\u001b[0;34m,\u001b[0m \u001b[0mparams\u001b[0m\u001b[0;34m)\u001b[0m\u001b[0;34m\u001b[0m\u001b[0m\n\u001b[1;32m    320\u001b[0m         \u001b[0;32mif\u001b[0m \u001b[0mresponse\u001b[0m\u001b[0;34m:\u001b[0m\u001b[0;34m\u001b[0m\u001b[0m\n\u001b[0;32m--> 321\u001b[0;31m             \u001b[0mself\u001b[0m\u001b[0;34m.\u001b[0m\u001b[0merror_handler\u001b[0m\u001b[0;34m.\u001b[0m\u001b[0mcheck_response\u001b[0m\u001b[0;34m(\u001b[0m\u001b[0mresponse\u001b[0m\u001b[0;34m)\u001b[0m\u001b[0;34m\u001b[0m\u001b[0m\n\u001b[0m\u001b[1;32m    322\u001b[0m             response['value'] = self._unwrap_value(\n\u001b[1;32m    323\u001b[0m                 response.get('value', None))\n",
      "\u001b[0;32m~/.local/lib/python3.5/site-packages/selenium/webdriver/remote/errorhandler.py\u001b[0m in \u001b[0;36mcheck_response\u001b[0;34m(self, response)\u001b[0m\n\u001b[1;32m    240\u001b[0m                 \u001b[0malert_text\u001b[0m \u001b[0;34m=\u001b[0m \u001b[0mvalue\u001b[0m\u001b[0;34m[\u001b[0m\u001b[0;34m'alert'\u001b[0m\u001b[0;34m]\u001b[0m\u001b[0;34m.\u001b[0m\u001b[0mget\u001b[0m\u001b[0;34m(\u001b[0m\u001b[0;34m'text'\u001b[0m\u001b[0;34m)\u001b[0m\u001b[0;34m\u001b[0m\u001b[0m\n\u001b[1;32m    241\u001b[0m             \u001b[0;32mraise\u001b[0m \u001b[0mexception_class\u001b[0m\u001b[0;34m(\u001b[0m\u001b[0mmessage\u001b[0m\u001b[0;34m,\u001b[0m \u001b[0mscreen\u001b[0m\u001b[0;34m,\u001b[0m \u001b[0mstacktrace\u001b[0m\u001b[0;34m,\u001b[0m \u001b[0malert_text\u001b[0m\u001b[0;34m)\u001b[0m\u001b[0;34m\u001b[0m\u001b[0m\n\u001b[0;32m--> 242\u001b[0;31m         \u001b[0;32mraise\u001b[0m \u001b[0mexception_class\u001b[0m\u001b[0;34m(\u001b[0m\u001b[0mmessage\u001b[0m\u001b[0;34m,\u001b[0m \u001b[0mscreen\u001b[0m\u001b[0;34m,\u001b[0m \u001b[0mstacktrace\u001b[0m\u001b[0;34m)\u001b[0m\u001b[0;34m\u001b[0m\u001b[0m\n\u001b[0m\u001b[1;32m    243\u001b[0m \u001b[0;34m\u001b[0m\u001b[0m\n\u001b[1;32m    244\u001b[0m     \u001b[0;32mdef\u001b[0m \u001b[0m_value_or_default\u001b[0m\u001b[0;34m(\u001b[0m\u001b[0mself\u001b[0m\u001b[0;34m,\u001b[0m \u001b[0mobj\u001b[0m\u001b[0;34m,\u001b[0m \u001b[0mkey\u001b[0m\u001b[0;34m,\u001b[0m \u001b[0mdefault\u001b[0m\u001b[0;34m)\u001b[0m\u001b[0;34m:\u001b[0m\u001b[0;34m\u001b[0m\u001b[0m\n",
      "\u001b[0;31mWebDriverException\u001b[0m: Message: chrome not reachable\n  (Session info: chrome=78.0.3904.108)\n"
     ]
    }
   ],
   "source": [
    "enviados = []\n",
    "run = True\n",
    "scrollChats_to_end()\n",
    "while run:\n",
    "    try:\n",
    "        total = sendImage()\n",
    "        if total == 'break':\n",
    "            run = False\n",
    "            print('Programa Parado')\n",
    "            break\n",
    "        \n",
    "        print('\\n{} enviados ate o momendo'.format(len(enviados)))\n",
    "            \n",
    "    except KeyboardInterrupt:\n",
    "        print('stopped everything')\n",
    "        break"
   ]
  },
  {
   "cell_type": "code",
   "execution_count": null,
   "metadata": {},
   "outputs": [],
   "source": [
    "#TO DO\n",
    "#salvar relatorio em csv\n",
    "#verica se ha o reloginho de enviando, se sim, clica no proximo contato, senao, insere em nao enviados"
   ]
  }
 ],
 "metadata": {
  "kernelspec": {
   "display_name": "Python 3",
   "language": "python",
   "name": "python3"
  },
  "language_info": {
   "codemirror_mode": {
    "name": "ipython",
    "version": 3
   },
   "file_extension": ".py",
   "mimetype": "text/x-python",
   "name": "python",
   "nbconvert_exporter": "python",
   "pygments_lexer": "ipython3",
   "version": "3.5.3"
  }
 },
 "nbformat": 4,
 "nbformat_minor": 2
}
