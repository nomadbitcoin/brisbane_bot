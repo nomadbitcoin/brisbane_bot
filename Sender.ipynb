{
 "cells": [
  {
   "cell_type": "code",
   "execution_count": 1,
   "metadata": {},
   "outputs": [],
   "source": [
    "import time\n",
    "import os\n",
    "import random"
   ]
  },
  {
   "cell_type": "code",
   "execution_count": 2,
   "metadata": {},
   "outputs": [],
   "source": [
    "from selenium import webdriver\n",
    "from selenium.webdriver.chrome.options import Options as ChromeOptions\n",
    "from selenium.webdriver.common.keys import Keys\n",
    "\n",
    "#instance headless\n",
    "options = webdriver.ChromeOptions()\n",
    "#options.add_argument('headless')\n",
    "#options.add_argument('--window-size-1920x1080')\n",
    "\n",
    "# open with saved informations in cache\n",
    "options.add_argument(\"profile\")\n",
    "options.add_argument(\"user-data-dir=./whatsapp_nabike\")\n",
    "\n",
    "driver = webdriver.Chrome(options=options, executable_path=\"./webdriver/chromedriver\")\n",
    "driver.get('https://web.whatsapp.com/')"
   ]
  },
  {
   "cell_type": "code",
   "execution_count": 3,
   "metadata": {},
   "outputs": [],
   "source": [
    "# input('pressione enter para continuar se o Whatsapp Web já estiver aberto: \\n')\n",
    "\n",
    "# input('o cardapio ja esta na area de copia? (ctrl+c & ctrl+v): \\n')"
   ]
  },
  {
   "cell_type": "code",
   "execution_count": 4,
   "metadata": {},
   "outputs": [],
   "source": [
    "def scrollChats_to_end():\n",
    "    try:\n",
    "        chatList = driver.find_elements_by_class_name('_1H6CJ')\n",
    "        driver.execute_script(\"arguments[0].scrollIntoView(false);\", chatList[0])\n",
    "    except:\n",
    "        print('algo deu errado ao dar scroll')"
   ]
  },
  {
   "cell_type": "code",
   "execution_count": 5,
   "metadata": {},
   "outputs": [],
   "source": [
    "def controlConection(up_or_down):\n",
    "    try:\n",
    "        sudoPassword = 'kaisen'\n",
    "        command = 'sudo ip link set enp7s0 '+ str(up_or_down)\n",
    "        os.system('echo %s|sudo -S %s' % (sudoPassword, command))\n",
    "        time.sleep(5)\n",
    "    except:\n",
    "        print('Erro conexao')"
   ]
  },
  {
   "cell_type": "code",
   "execution_count": 6,
   "metadata": {},
   "outputs": [],
   "source": [
    "def sendImage():\n",
    "    rounds = 0\n",
    "    stop = 0\n",
    "    for contact in driver.find_elements_by_xpath(\"//div[@class='X7YrQ']\"):\n",
    "        try:\n",
    "            name = contact.find_elements_by_css_selector('span._3NWy8')[0].text\n",
    "            #verifica quando foi a ultima mensagem enviada para o contato, se houver \" : \" eh porque recebeu mensagem no mesmo dia entao nao recebera o cardapio novamente\n",
    "            #when = contact.find_elements_by_css_selector('div._0LqQ')[0].text.find(':')\n",
    "            #se o identificador de horario nao for encontrado o find retorna -1\n",
    "    \n",
    "            print('enviando cardapio para: {}'.format(name))\n",
    "            if name not in enviados:\n",
    "                try:\n",
    "                    contact.find_elements_by_css_selector('span._3NWy8')[0].click()\n",
    "                    time.sleep(1)\n",
    "                    driver.find_element_by_xpath(\"//div[@class='_13mgZ']\").send_keys(Keys.CONTROL + \"v\")\n",
    "                    time.sleep(1)\n",
    "                    driver.find_element_by_xpath(\"//div[@class='rK2ei USE1O']\").find_element_by_xpath(\"//div[@class='iA40b']\").click()\n",
    "                    enviados.append(name)\n",
    "                    stop = 0\n",
    "                    #se encontrar algum para enviar ira zerar o contador\n",
    "                except KeyboardInterrupt:\n",
    "                    print('stopped Sender')\n",
    "                    break\n",
    "                except:\n",
    "                    try:\n",
    "                        #tenta novamente clicar no botao enviar\n",
    "                        driver.find_element_by_xpath(\"//div[@class='rK2ei USE1O']\").find_element_by_xpath(\"//div[@class='iA40b']\").click()\n",
    "                        enviados.append(name)\n",
    "                    except:\n",
    "                        #se nao conseguir novamente, tentara apertar enter\n",
    "                        print('houve algum problema')\n",
    "                        pass\n",
    "            else:\n",
    "                print('ja enviado para: {}'.format(name))\n",
    "                stop +=1\n",
    "                if stop >=20:\n",
    "                    #se por 20 vezes ja tiver enviado o cardapio, chegou ao fim\n",
    "                    return 'break'\n",
    "            rounds +=1\n",
    "        except:\n",
    "            pass\n",
    "        \n",
    "        time.sleep(1)\n",
    "        scrollChats_to_end()\n",
    "        \n",
    "        \n",
    "    return rounds"
   ]
  },
  {
   "cell_type": "code",
   "execution_count": 7,
   "metadata": {
    "scrolled": true
   },
   "outputs": [],
   "source": [
    "# # enviados = []\n",
    "# run = True\n",
    "# while run:\n",
    "#     try:\n",
    "#         shipped = 0\n",
    "#         scrollChats_to_end()\n",
    "# #         controlConection('down')\n",
    "        \n",
    "#         #define um numero aleatorio de cardapios para enviar a cada conexao\n",
    "#         num_sends = int(random.randint(69,99))\n",
    "        \n",
    "        \n",
    "#         while shipped <= num_sends:\n",
    "#             total = sendImage()\n",
    "#             if total != 'break':\n",
    "#                 shipped = shipped + total\n",
    "#             else:\n",
    "#                 run = False\n",
    "#                 break\n",
    "\n",
    "#         # escolhe um tempo aleatorio em segundos entre 50 e 80s para que os cardapios sejam enviados apos conexao com internet\n",
    "# #         controlConection('up')\n",
    "        \n",
    "# #         time_to_wait = int(random.randint(50,80))\n",
    "# #         print('sending files...')\n",
    "        \n",
    "# #         time.sleep(time_to_wait)\n",
    "#         print('\\n{} enviados ate o momendo'.format(len(enviados)))\n",
    "            \n",
    "#     except KeyboardInterrupt:\n",
    "#         print('stopped everything')\n",
    "#         break"
   ]
  },
  {
   "cell_type": "code",
   "execution_count": 8,
   "metadata": {},
   "outputs": [],
   "source": [
    "enviados = []\n",
    "run = True\n",
    "while run:\n",
    "    try:\n",
    "        total = sendImage()\n",
    "        if total == 'break':\n",
    "            run = False\n",
    "            print('Programa Parado')\n",
    "            break\n",
    "        \n",
    "        print('\\n{} enviados ate o momendo'.format(len(enviados)))\n",
    "            \n",
    "    except KeyboardInterrupt:\n",
    "        print('stopped everything')\n",
    "        break"
   ]
  },
  {
   "cell_type": "code",
   "execution_count": null,
   "metadata": {},
   "outputs": [],
   "source": [
    "#TO DO\n",
    "#salvar relatorio em csv\n",
    "#verica se ha o reloginho de enviando, se sim, clica no proximo contato, senao, insere em nao enviados"
   ]
  }
 ],
 "metadata": {
  "kernelspec": {
   "display_name": "Python 3",
   "language": "python",
   "name": "python3"
  },
  "language_info": {
   "codemirror_mode": {
    "name": "ipython",
    "version": 3
   },
   "file_extension": ".py",
   "mimetype": "text/x-python",
   "name": "python",
   "nbconvert_exporter": "python",
   "pygments_lexer": "ipython3",
   "version": "3.5.3"
  }
 },
 "nbformat": 4,
 "nbformat_minor": 2
}
