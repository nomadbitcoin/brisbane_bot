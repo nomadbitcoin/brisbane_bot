{
 "cells": [
  {
   "cell_type": "code",
   "execution_count": 1,
   "metadata": {},
   "outputs": [],
   "source": [
    "import time\n",
    "import bs4\n",
    "import platform\n",
    "from selenium import webdriver\n",
    "from selenium.webdriver.chrome.options import Options as ChromeOptions\n",
    "from selenium.webdriver.common.keys import Keys\n",
    "from selenium.webdriver.common.action_chains import ActionChains"
   ]
  },
  {
   "cell_type": "code",
   "execution_count": 2,
   "metadata": {},
   "outputs": [],
   "source": [
    "wait = 1"
   ]
  },
  {
   "cell_type": "code",
   "execution_count": 3,
   "metadata": {},
   "outputs": [],
   "source": [
    "# INSTANCE BROWSER\n",
    "def openBrowser(business):\n",
    "    '''\n",
    "        Verifica qual o sistema operacional para que use o driver e diretorio de usuarios certo\n",
    "    '''\n",
    "    \n",
    "    if platform.system() == 'Linux':\n",
    "        driver_path = './webdriver/linux/chromedriver'\n",
    "        profile_path = '/home/nomadbitcoin/whatsapp_profiles/' + business \n",
    "    elif platform.system() == 'Windows':\n",
    "        driver_path = r'C:\\\\Users\\\\Yan\\\\Desktop\\\\brisbane_bot\\\\webdriver\\\\win\\\\chromedriver.exe'\n",
    "        profile_path = \"C:\\\\Users\\\\Yan\\\\Desktop\\\\brisbane_bot\\\\profiles\\\\\" + business\n",
    "        print(profile_path)\n",
    "    \n",
    "    \n",
    "    global driver\n",
    "    try:\n",
    "        options = webdriver.ChromeOptions()\n",
    "        # open with saved informations in cache\n",
    "        options.add_argument(\"profile\")\n",
    "        options.add_argument(\"user-data-dir=\" + profile_path)\n",
    "        driver = webdriver.Chrome(options=options, executable_path=driver_path)\n",
    "#         driver.implicitly_wait(5) #tempo implicito de espera 1 segundo antes de cada acao\n",
    "        main_url = 'https://web.whatsapp.com/'\n",
    "        driver.get(main_url)\n",
    "        return True\n",
    "        if wait_connection(driver):\n",
    "            return True, 'opened in: {}'.format(main_url)\n",
    "    except Exception as error:\n",
    "        print(type(error), error)\n",
    "        return False\n",
    "    \n",
    "# PARA LIBERAR SOMENTE APOS TER ABERTO O WHATSAPP\n",
    "def wait_connection(driver):\n",
    "    waiting = True\n",
    "    while waiting:\n",
    "        try:\n",
    "            if driver.find_element_by_class_name('Qk8nZ').text == 'Keep your phone connected':\n",
    "                waiting = False\n",
    "                return True\n",
    "                break\n",
    "#             elif driver.find_element_by_class_name('_13HPh').text == 'Computer not connected':\n",
    "#                 waiting = False\n",
    "#                 return False, 'Computer not connected'\n",
    "        except KeyboardInterrupt:\n",
    "            waiting = False\n",
    "            return False\n",
    "        except:\n",
    "            time.sleep(10)\n",
    "            pass"
   ]
  },
  {
   "cell_type": "code",
   "execution_count": 4,
   "metadata": {},
   "outputs": [
    {
     "name": "stdout",
     "output_type": "stream",
     "text": [
      "C:\\Users\\Yan\\Desktop\\brisbane_bot\\profiles\\nomadbitcoin\n"
     ]
    },
    {
     "data": {
      "text/plain": [
       "True"
      ]
     },
     "execution_count": 4,
     "metadata": {},
     "output_type": "execute_result"
    }
   ],
   "source": []
  },
  {
   "cell_type": "code",
   "execution_count": 5,
   "metadata": {},
   "outputs": [],
   "source": [
    "# PEGA A UNICA MENSAGEM QUE HA NO CHAT 'TO_SEND' - FUNCIONANDO PARA IMAGENS\n",
    "def click_forward(content, have_text=False):\n",
    "    '''\n",
    "        Deve Haver uma conversa com as mensagens a serem encaminhadas e NADA MAIS,\n",
    "        pode ser um grupo sozinho ou uma conversa com alguem mas \n",
    "        é essencial que não tenha mais nenhuma mensagem na conversa além das mensagens a serem encaminnhadas\n",
    "    \n",
    "        o conteudo pode ser imagem, audio, video, ou texto e caso seja imagem ou video pode conter texto\n",
    "    '''\n",
    "    \n",
    "    # se o conteudo a ser encaminhado for imagem\n",
    "    if content == 'image':\n",
    "        try:\n",
    "            div_chat = driver.find_element_by_class_name('_1ays2')\n",
    "            mensagens = div_chat.find_elements_by_class_name('FTBzM')\n",
    "            for msg in mensagens:\n",
    "                try:\n",
    "                    #verifica se ha imagem a ser verificada e verifica se ja foi verificada\n",
    "                    src = msg.find_element_by_tag_name('img').get_attribute('src')\n",
    "                    msg.find_element_by_xpath('//span[@data-icon=\"forward-chat\"]').click()\n",
    "                    #retorna True para o clique e tambem o conteudo de texto da mensagem, senao somente True\n",
    "                    text = msg.text[:-8]if have_text == True else None\n",
    "                    return True, text #os ultimos 8 caracteres sao o horario da mensagem e nao devem ser enviados\n",
    "                except Exception as error:\n",
    "                    if 'Unable to locate element' not in str(error):\n",
    "                        print(type(error), error)\n",
    "                    pass\n",
    "\n",
    "        except Exception as error:\n",
    "            print(type(error), error)"
   ]
  },
  {
   "cell_type": "code",
   "execution_count": 6,
   "metadata": {},
   "outputs": [],
   "source": [
    "def click_to_send():\n",
    "    try:\n",
    "        driver.find_element_by_xpath('//div[@data-animate-btn=\"true\"]').click()\n",
    "        return True\n",
    "    except Exception as error:\n",
    "        print(type(error), error)\n",
    "        return False"
   ]
  },
  {
   "cell_type": "code",
   "execution_count": 7,
   "metadata": {},
   "outputs": [],
   "source": [
    "def getChats():\n",
    "    '''\n",
    "        Pega a lista de chats apos clicar no botao de encaminhar\n",
    "    '''\n",
    "    chats = driver.find_elements_by_class_name('_2UaNq')\n",
    "    return chats"
   ]
  },
  {
   "cell_type": "code",
   "execution_count": 8,
   "metadata": {},
   "outputs": [],
   "source": [
    "def isGroup(chat):\n",
    "    '''\n",
    "        Rececebe um chat e verifica se eh um grupo\n",
    "    \n",
    "        Quado eh grupo nao tera uma div especifica, entao retornara False\n",
    "    '''\n",
    "    try:\n",
    "        div_contact = chat.find_element_by_class_name('_3NWy8')\n",
    "        return False\n",
    "    except Exception as error:\n",
    "        if 'Unable to locate element' not in str(error):\n",
    "            print(type(error), error)\n",
    "        else:\n",
    "            return True"
   ]
  },
  {
   "cell_type": "code",
   "execution_count": 9,
   "metadata": {},
   "outputs": [],
   "source": [
    "def clickChat(chat):\n",
    "    try:\n",
    "        chat.click()\n",
    "        return True\n",
    "    except Exception as error:\n",
    "        return False\n",
    "\n",
    "def select_contacts(groups=False):\n",
    "    '''\n",
    "        Verifica se os chats sao grupo, ira selecionar 5 chats que nao sejam grupos\n",
    "    '''\n",
    "    try:\n",
    "        # caso nao seja para encaminhar para os grupos\n",
    "        if groups == False:\n",
    "            selected = 0\n",
    "            for chat in getChats():\n",
    "                time.sleep(wait)\n",
    "                if not isGroup(chat) and clickChat(chat) and selected <=5:\n",
    "                    print('{} selected: {}'.format(selected, chat.text))\n",
    "                    selected +=1\n",
    "                elif selected >=5:\n",
    "                    break\n",
    "            return True\n",
    "        # se for para selecionar grupos eh a mesma coisa mais nao ira verificar antes se eh grupo\n",
    "        else:\n",
    "            selected = 0\n",
    "            for chat in getChats():\n",
    "                time.sleep(wait)\n",
    "                if clickChat(chat) and selected <=5:\n",
    "                    print('{} selected: {}'.format(selected, chat.text))\n",
    "                    selected +=1\n",
    "                elif selected >=5:\n",
    "                    break\n",
    "            return True\n",
    "            \n",
    "    except Exception as error:\n",
    "        print(type(error), error)"
   ]
  },
  {
   "cell_type": "code",
   "execution_count": 10,
   "metadata": {},
   "outputs": [],
   "source": [
    "def scrollChats():\n",
    "    '''\n",
    "        Ira controlar os scrolls a serem dados na lista de chats\n",
    "    '''\n",
    "    pass"
   ]
  },
  {
   "cell_type": "code",
   "execution_count": 11,
   "metadata": {},
   "outputs": [],
   "source": [
    "# FUNCOES DE NAVEGACAO PELO WHATSAPP COM CLIQUES E TECLAS DO TECLADO\n",
    "def down_chat(force=False, page_down=True):\n",
    "    #force = True ira clicar na caixa de pesquisa e reiniciar o processo de clicar nos botoes\n",
    "    if 'press_down' not in globals() or force == True:\n",
    "        # CLICA NA CAIXA DE PESQUISA DE CONVERSAS\n",
    "        driver.find_element_by_class_name('_2zCfw').click()\n",
    "        \n",
    "        # PRESSIONA A TECLA DOWN PARA NAVEGAR ENTRE AS CONVERSAS\n",
    "        global press_down\n",
    "        press_down = ActionChains(driver)\n",
    "        press_down.send_keys(Keys.DOWN)\n",
    "        press_down.perform()\n",
    "    elif page_down == True:\n",
    "        press_down.send_keys(Keys.PAGE_DOWN)\n",
    "        press_down.perform()\n",
    "    else:\n",
    "        press_down.perform()"
   ]
  },
  {
   "cell_type": "code",
   "execution_count": 45,
   "metadata": {},
   "outputs": [],
   "source": [
    "# CLICA EM ENCAMINHAR MENSAGEM\n",
    "def click_forward():\n",
    "    '''\n",
    "        Verifica se a ultima mensagem foi a propria conta que enviou e se eh uma imagem e se o tempo esta valido,\n",
    "        apos clicar em encaminhar ira aguardar ate que o reloginho de enviando conclua\n",
    "        tempo valido sera se o horario atual comparado ao tempo que esperou enviar coincide com o horario da imagem enviada\n",
    "        (para casos em que a conta ja tenha enviado uma imagem antes)\n",
    "    '''\n",
    "    pass"
   ]
  },
  {
   "cell_type": "code",
   "execution_count": null,
   "metadata": {},
   "outputs": [],
   "source": []
  },
  {
   "cell_type": "code",
   "execution_count": null,
   "metadata": {},
   "outputs": [],
   "source": []
  },
  {
   "cell_type": "code",
   "execution_count": 29,
   "metadata": {},
   "outputs": [],
   "source": [
    "# ABRE UMA CONVERSA ESPECIFICA QUE CONTEM O CONTEUDO A SER ENCAMINHADO\n",
    "def openChat(chat_name):\n",
    "    '''\n",
    "        Abre a conversa principal onde esta o conteudo a ser encaminhado\n",
    "    '''\n",
    "\n",
    "    try:\n",
    "        '''Na caixa de pesquisa digita o nome do contato'''\n",
    "        search_box = driver.find_element_by_class_name('_2zCfw')\n",
    "        search_box.click()\n",
    "        search_box.send_keys(Keys.CONTROL + 'a')\n",
    "        search_box.send_keys(Keys.BACKSPACE)\n",
    "        search_box.send_keys(chat_name)\n",
    "        time.sleep(wait)\n",
    "\n",
    "        ''' Clica e Abre a Conversa'''\n",
    "        chats = driver.find_elements_by_class_name('KgevS')\n",
    "        for chat in chats:\n",
    "            if chat.find_element_by_class_name('_19RFN').get_attribute('title') == chat_name:\n",
    "                chat.click()\n",
    "                return True\n",
    "    except Exception as error:\n",
    "        print(type(error), error)\n",
    "        return False"
   ]
  },
  {
   "cell_type": "code",
   "execution_count": 41,
   "metadata": {},
   "outputs": [],
   "source": [
    "# ENCONTRA O CONTEUDO ESPECIFICO E CLICA EM ENCAMINHAR\n",
    "def sendContent(content_type):\n",
    "    '''\n",
    "        Recebe como parametro um tipo de conteudo e chama a funcao responsavel por clicar em encaminhar aquele conteudo\n",
    "        \n",
    "        precisa implementar:\n",
    "            *documento\n",
    "            *localizacao\n",
    "            *contato\n",
    "    '''\n",
    "    if content_type == 'audio':\n",
    "        sendAudioFile()\n",
    "        return True\n",
    "    elif content_type == 'image':\n",
    "        sendImage()\n",
    "        return True\n",
    "    elif content_type == 'video':\n",
    "        sendVideo()\n",
    "        return True\n",
    "    elif content_type == 'text':\n",
    "        print('___ >>> sendContent <<< ___ [NEED IMPLEMENT -- TEXT]')\n",
    "        return False\n",
    "    elif content_type == 'document':\n",
    "        print('___ >>> sendContent <<< ___ [NEED IMPLEMENT -- DOCUMENT]')\n",
    "        return False\n",
    "    elif content_type == 'location':\n",
    "        print('___ >>> sendContent <<< ___ [NEED IMPLEMENT -- LOCATION]')\n",
    "        return False\n",
    "    elif content_type == 'contact':\n",
    "        print('___ >>> sendContent <<< ___ [NEED IMPLEMENT -- CONTACT]')\n",
    "        return False\n",
    "    else:\n",
    "        print('\\nError ___ >>> sendContent <<< ___ [function: sendContent()]\\n')\n",
    "        return False\n",
    "\n",
    "def sendAudioFile():\n",
    "    '''\n",
    "        Encontra o arquivo de audio e passa para a funcao encaminhar\n",
    "    '''\n",
    "    messages = driver.find_elements_by_class_name('FTBzM')\n",
    "    \n",
    "    for message in messages:\n",
    "        try:\n",
    "            # se nao der erro eh pq a mensagem eh o audio\n",
    "            message.find_element_by_class_name('_1N8Pv')\n",
    "            message.find_element_by_class_name('gxf3C').click()\n",
    "            return True\n",
    "        except Exception as error:\n",
    "    #         print(type(error), error)\n",
    "            pass\n",
    "    \n",
    "    \n",
    "    # se algo nao der certo ira retornar False\n",
    "    return False\n",
    "\n",
    "def sendVideo():\n",
    "    '''\n",
    "        Encontra o video e passa para a funcao encaminhar\n",
    "    '''\n",
    "    messages = driver.find_elements_by_class_name('FTBzM')\n",
    "    for message in messages:\n",
    "        try:\n",
    "            message.find_element_by_class_name('_3Z-uK')\n",
    "            message.find_element_by_class_name('gxf3C').click()\n",
    "            return True\n",
    "        except Exception as error:\n",
    "    #         print(type(error), error)\n",
    "            pass\n",
    "    \n",
    "def sendImage():\n",
    "    '''\n",
    "        Encontra o video e passa para a funcao encaminhar\n",
    "    '''\n",
    "    messages = driver.find_elements_by_class_name('FTBzM')\n",
    "    for message in messages:\n",
    "        try:\n",
    "            message.find_element_by_tag_name('img')\n",
    "            message.find_element_by_class_name('gxf3C').click()\n",
    "            return True\n",
    "        except Exception as error:\n",
    "#             print(type(error), error)\n",
    "            pass\n",
    "    return False"
   ]
  },
  {
   "cell_type": "code",
   "execution_count": 43,
   "metadata": {},
   "outputs": [
    {
     "data": {
      "text/plain": [
       "True"
      ]
     },
     "execution_count": 43,
     "metadata": {},
     "output_type": "execute_result"
    }
   ],
   "source": [
    "openChat('DIVO')"
   ]
  },
  {
   "cell_type": "code",
   "execution_count": 44,
   "metadata": {},
   "outputs": [
    {
     "data": {
      "text/plain": [
       "True"
      ]
     },
     "execution_count": 44,
     "metadata": {},
     "output_type": "execute_result"
    }
   ],
   "source": [
    "sendContent('video')"
   ]
  },
  {
   "cell_type": "code",
   "execution_count": 82,
   "metadata": {},
   "outputs": [
    {
     "name": "stdout",
     "output_type": "stream",
     "text": [
      "passou\n",
      "4 selected: +55 48 9138-8801\n",
      "\n",
      "passou\n",
      "5 selected: +55 51 9134-6735\n",
      "\n",
      "passou\n",
      "6 selected: +55 47 9958-0999\n",
      "\n",
      "passou\n",
      "7 selected: Mae\n",
      "\n",
      "passou\n",
      "8 selected: Gab\n",
      "\n"
     ]
    },
    {
     "data": {
      "text/plain": [
       "(True,\n",
       " ['+55 48 9138-8801', '+55 51 9134-6735', '+55 47 9958-0999', 'Mae', 'Gab'])"
      ]
     },
     "execution_count": 82,
     "metadata": {},
     "output_type": "execute_result"
    }
   ],
   "source": [
    "select_contacts()"
   ]
  },
  {
   "cell_type": "code",
   "execution_count": 125,
   "metadata": {},
   "outputs": [],
   "source": [
    "# SELECIONA UM OU MAIS CONTATOS QUE AINDA NAO ENCAMINHOU PARA ENVIAR A MENSAGEM\n",
    "def select_contacts(groups=False, just_one=False):\n",
    "    '''\n",
    "        Recebe como parametro se deve selecionar um ou mais contatos\n",
    "        Verifica se os chats sao grupo, ira selecionar 5 chats que nao sejam grupos\n",
    "    '''\n",
    "    selected = []\n",
    "    try:\n",
    "        # caso nao seja para encaminhar para os grupos\n",
    "        if groups == False:\n",
    "            for num, chat in enumerate(getChats()):\n",
    "                time.sleep(wait/2)\n",
    "                chat_title = chat.text.split('\\n')[0]\n",
    "                if len(selected) <=4 and not isGroup(chat) and not verifyForwarded(chat_title) and clickChat(chat):\n",
    "                    print('{} selected: {}\\n'.format(num, chat_title))\n",
    "                    selected.append(chat_title)\n",
    "                    \n",
    "                    ''' Se for para selecionar apenas um ira encerrar a funcao apos selecionar um'''\n",
    "                    if just_one == True:\n",
    "                        return True\n",
    "                elif len(selected) >=4:\n",
    "                    break\n",
    "            return selected\n",
    "        # se for para selecionar grupos eh a mesma coisa mas nao ira verificar antes se eh grupo\n",
    "        else:\n",
    "            for num, chat in enumerate(getChats()):\n",
    "                time.sleep(wait/2)\n",
    "                chat_title = chat.text.split('\\n')[0]\n",
    "                if len(selected) <=4 and not verifyForwarded(chat_title) and clickChat(chat):\n",
    "                    chat_title = chat.text.split('\\n')[0]\n",
    "                    print('{} selected: {}\\n'.format(num, chat_title))\n",
    "                    selected.append(chat_title)\n",
    "                    ''' Se for para selecionar apenas um ira encerrar a funcao apos selecionar um'''\n",
    "                    if just_one == True:\n",
    "                        return True\n",
    "                elif len(selected) >=4:\n",
    "                    break\n",
    "            return selected\n",
    "            \n",
    "    except Exception as error:\n",
    "        print(type(error), error)\n",
    "\n",
    "def isGroup(chat):\n",
    "    '''\n",
    "        Rececebe um chat e verifica se eh um grupo\n",
    "    \n",
    "        Quado eh grupo nao tera uma div especifica, entao retornara False\n",
    "    '''\n",
    "    try:\n",
    "        div_contact = chat.find_element_by_class_name('_3NWy8')\n",
    "        return False\n",
    "    except Exception as error:\n",
    "        if 'Unable to locate element' not in str(error):\n",
    "            print(type(error), error)\n",
    "        else:\n",
    "            return True\n",
    "        \n",
    "def getChats():\n",
    "    '''\n",
    "        Pega a lista de chats apos clicar no botao de encaminhar\n",
    "    '''\n",
    "    chats = driver.find_elements_by_class_name('_2UaNq')\n",
    "    return chats\n",
    "\n",
    "def click_to_send(names_to_save):\n",
    "#     try:\n",
    "    driver.find_element_by_xpath('//div[@data-animate-btn=\"true\"]').click()\n",
    "    ''' Salva os nomes dos contatos para os quais ja encaminhou'''\n",
    "    saveForwarded(names_to_save, 'list')\n",
    "    return True\n",
    "#     except Exception as error:\n",
    "#         print(type(error), error)\n",
    "#         return False"
   ]
  },
  {
   "cell_type": "code",
   "execution_count": 117,
   "metadata": {},
   "outputs": [],
   "source": [
    "# SALVA CONTATOS QUE JA INTERAGIU E VERIFICA CONTATOS QUE JA INTERAGIU\n",
    "def saveForwarded(names_to_save, type_of_send):\n",
    "    '''\n",
    "        Salva os contatos para o qual ja encaminhou.\n",
    "        ha dois tipos de encaminhamento, para uma pessoa ou para mais de uma\n",
    "        se for mais de uma recebera uma lista de nomes para salvar\n",
    "    '''\n",
    "    if type_of_send == 'one':\n",
    "        with open('forwarded.txt', 'a') as filee:\n",
    "            filee.write(str(name) + '\\n')\n",
    "        return True\n",
    "    \n",
    "    if type_of_send == 'list':\n",
    "        for name in names_to_save:\n",
    "            print('name')\n",
    "            with open('list_forwarded.txt', 'a') as filee:\n",
    "                    filee.write(str(name) + '\\n')\n",
    "        return True\n",
    "    \n",
    "def verifyForwarded(chat_name=None, get_list=False):\n",
    "    '''\n",
    "        Verifica se ja encaminhou para aquele contato antes\n",
    "    '''\n",
    "    with open('list_forwarded.txt', 'r') as filee:\n",
    "        talked = filee.read().split('\\n')\n",
    "    \n",
    "    if chat_name != None:\n",
    "        return True if chat_name in talked else False\n",
    "    elif get_list != False:\n",
    "        return talked"
   ]
  },
  {
   "cell_type": "code",
   "execution_count": 128,
   "metadata": {},
   "outputs": [
    {
     "name": "stdout",
     "output_type": "stream",
     "text": [
      "10 selected: Save Save Save\n",
      "\n",
      "11 selected: +55 51 9134-6735\n",
      "\n",
      "12 selected: +55 34 9145-9980\n",
      "\n",
      "13 selected: +55 11 94659-6959\n",
      "\n"
     ]
    }
   ],
   "source": [
    "selected_chats = select_contacts(True)\n",
    "click_to_send(selected_chats)"
   ]
  },
  {
   "cell_type": "code",
   "execution_count": 115,
   "metadata": {},
   "outputs": [
    {
     "name": "stdout",
     "output_type": "stream",
     "text": [
      "C:\\Users\\Yan\\Desktop\\brisbane_bot\\profiles\\nomadbitcoin\n"
     ]
    },
    {
     "data": {
      "text/plain": [
       "True"
      ]
     },
     "execution_count": 115,
     "metadata": {},
     "output_type": "execute_result"
    }
   ],
   "source": [
    "openBrowser('nomadbitcoin')"
   ]
  },
  {
   "cell_type": "code",
   "execution_count": null,
   "metadata": {},
   "outputs": [],
   "source": [
    "#abrir uma conversa especifica\n",
    "#clicar em encaminhar no conteudo especifico\n",
    "#selecionar contatos que nao enviou, exceto grupos\n",
    "#clicar em enviar\n",
    "\n",
    "#dar scroll selecionando outros na lista\n",
    "#repetir o processo de onde parou"
   ]
  }
 ],
 "metadata": {
  "kernelspec": {
   "display_name": "Python 3",
   "language": "python",
   "name": "python3"
  },
  "language_info": {
   "codemirror_mode": {
    "name": "ipython",
    "version": 3
   },
   "file_extension": ".py",
   "mimetype": "text/x-python",
   "name": "python",
   "nbconvert_exporter": "python",
   "pygments_lexer": "ipython3",
   "version": "3.7.3"
  }
 },
 "nbformat": 4,
 "nbformat_minor": 2
}
